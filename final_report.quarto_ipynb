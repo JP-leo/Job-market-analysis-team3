{
  "cells": [
    {
      "cell_type": "raw",
      "metadata": {},
      "source": [
        "---\n",
        "title: \"Evaluating Personal Job Market Prospects in 2024\"\n",
        "subtitle: \"Final Report\"\n",
        "author: Jiapei Li\n",
        "date: today\n",
        "format: \n",
        "  docx:\n",
        "    toc: true\n",
        "    number-sections: true\n",
        "    reference-doc: default\n",
        "bibliography: references.bib\n",
        "csl: csl/econometrica.csl\n",
        "execute:\n",
        "  echo: true\n",
        "  eval: true\n",
        "  code-fold: true\n",
        "---\n",
        "\n",
        "\n",
        "::: {.callout-note}\n",
        "This is the final integrated report combining all sections: data cleaning, skill gap analysis, machine learning methods, and final insights.\n",
        ":::\n",
        "\n",
        "\n",
        "---"
      ],
      "id": "28fe1916"
    },
    {
      "cell_type": "markdown",
      "metadata": {},
      "source": [
        "title: \"Salary and Compensation Trends in AI Careers\"\n",
        "author: \"Team 3\"\n",
        "date: today\n",
        "format:\n",
        "  html:\n",
        "    toc: true\n",
        "    toc-depth: 2\n",
        "    toc-exclude: [\"Welcome to Our Research\"]\n",
        "bibliography: references.bib\n",
        "csl: csl/econometrica.csl\n",
        "---\n",
        "\n",
        "# Welcome to Our Research\n",
        "\n",
        "## Research Rationale\n",
        "\n",
        "Our team chose **Salary Disparities Across Disciplines: Who Benefits Most from AI's Rise? ** as our research topic. Due to the rapid development of AI chatbots and substantial infrastructure investments by companies such as OpenAI, Google, NVIDIA, and DeepSeek, a significant restructuring of the current workforce appears inevitable. Some existing occupations will diminish or potentially disappear, while new roles will emerge and command higher compensation. Understanding these changes, identifying potential trends, and analyzing reliable data regarding AI's impact are of paramount importance.\n",
        "\n",
        "---\n",
        "\n",
        "## Why is this topic important?\n",
        "\n",
        "The rapid advancement of AI is transforming the workforce by reshaping job opportunities and salary structures. While AI-driven technologies enhance productivity and facilitate the emergence of new roles, they also contribute to job displacement, particularly in routine-based occupations. \n",
        "\n",
        "Empirical studies have demonstrated that automation has been a key driver of income inequality [@adhikari2024], disproportionately impacting middle-skilled and less-educated workers. Conversely, AI-driven professions are experiencing new work opportunities, particularly in technology-related fields, necessitating a shift in workforce skills and adaptability.\n",
        "\n",
        "The adoption of AI technologies brings **wage volatility and job opportunities** across different income groups. While AI roles often require unique, high-demand skillsets within specific occupations, it is overall important to implement policy measures to reduce the variations in industry adoption and workforce accessibility. As AI reshapes job requirements, reskilling becomes imperative, particularly for non-technical workers who are at higher risk of displacement. Addressing the digital skills gap through targeted training programs is essential to ensuring workforce adaptability and mitigating the socioeconomic disruptions caused by AI-driven labor market transformations.\n",
        "\n",
        "---\n",
        "\n",
        "## Trend Analysis of AI Development and Salary Fluctuations\n",
        "\n",
        "The rapid advancement of AI has led to an increasing market demand for AI-related skills, significantly influencing employment trends and salary structures in the United States. Studies suggest that various job sectors are highly susceptible to AI-driven transformation, including those in traditionally high-skilled industries [@colombo2024]. \n",
        "\n",
        "Similarly, in China, the demand for AI professionals surged in 2024, particularly in specialized domains such as **healthcare and applied sciences**, as companies sought to attract top talent in these fields. Salaries for AI specialists have risen substantially. Moreover, the growing competition in the AI sector has reshaped existing salary distributions. AI-related professions offer **higher salary premiums and employment benefits** compared to traditional IT engineering roles, potentially exacerbating the wage disparity between AI professionals and non-AI professionals, thereby influencing labor market equilibrium [@stone2024].\n",
        "\n",
        "AI is fundamentally transforming labor markets across various industries, exerting a significant influence on **wage structures depending on job characteristics**. Repetitive rule-based tasks, such as **basic data entry or customer service automation**, are highly susceptible to AI-driven automation, reducing the demand for such roles in the labor market, thereby cutting down employment opportunities and lowering compensation obtained. For instance, AI has been widely adopted in **human resources management candidate screening**, prompting some employers to lessen workforce hiring needs [@sezgin2023].\n",
        "\n",
        "Conversely, occupations requiring **advanced cognitive skills, creativity, or interpersonal communication**—such as those in **professional services**—are less likely to be fully replaced by AI and may instead benefit from hybrid automation models. \n",
        "\n",
        "- **Medical field**: AI-powered diagnostic tools have enhanced precision and efficiency in medical decision-making, but final assessments still rely heavily on human expertise [@ansari2024].\n",
        "- **Legal sector**: AI-driven automation has accelerated case analysis and legal procedures, but **complex legal judgments continue to rely on human practitioners**. Harvard Law Professor **David Wilkins** has found that while generative AI has the potential to transform legal practices, the primary role remains that of a **supportive tool rather than a replacement**.\n",
        "- **Finance and Governance**: Industries with a focus on **financial and governance decision-making** may experience **wage polarization** due to AI-induced advancements, where professionals may experience **wage growth** due to AI-driven productivity enhancements.\n",
        "\n",
        "---\n",
        "\n",
        "## What do you expect to find in your analysis?\n",
        "\n",
        "Our research encompasses various aspects of **salary disparities**. Specifically, we aim to investigate:\n",
        "- **Income and job distribution differences**, including an analysis of which **geographical regions** see the highest demand and wage disparities for both AI-related and traditional professional roles.\n",
        "- **Comprehensive analysis of recent datasets**, identifying the most sought-after required skills among job listings.\n",
        "- **The differential impact of AI-driven changes on high-skill versus middle-skill occupations**.\n",
        "\n",
        "\n",
        "---\n",
        "\n",
        "## References\n"
      ],
      "id": "18116144"
    },
    {
      "cell_type": "markdown",
      "metadata": {},
      "source": [
        "---\n",
        "title: \"Data Analysis\"\n",
        "subtitle: \"Comprehensive Data Cleaning & Exploratory Analysis of Job Market Trends\"\n",
        "bibliography: references.bib\n",
        "csl: csl/econometrica.csl\n",
        "format: \n",
        "  html:\n",
        "    toc: true\n",
        "    number-sections: true\n",
        "    df-print: paged\n",
        "jupyter: python3\n",
        "---\n",
        "\n",
        "## Data Cleaning & Preprocessing"
      ],
      "id": "a5397e7e"
    },
    {
      "cell_type": "code",
      "metadata": {},
      "source": [
        "import pandas as pd\n",
        "import missingno as msno\n",
        "import matplotlib.pyplot as plt\n",
        "import plotly.express as px\n",
        "\n",
        "# 1. Read the CSV file\n",
        "df = pd.read_csv(\"lightcast_job_postings.csv\")\n",
        "\n",
        "# 2. Columns to drop (if they exist)\n",
        "columns_to_drop = [\n",
        "    \"ID\", \"URL\", \"ACTIVE_URLS\", \"DUPLICATES\", \"LAST_UPDATED_TIMESTAMP\",\n",
        "    \"NAICS2\", \"NAICS3\", \"NAICS4\", \"NAICS5\", \"NAICS6\",\n",
        "    \"SOC_2\", \"SOC_3\", \"SOC_5\"\n",
        "]\n",
        "# Filter out columns that actually exist in the DataFrame to avoid KeyError\n",
        "valid_cols_to_drop = [col for col in columns_to_drop if col in df.columns]\n",
        "df.drop(columns=valid_cols_to_drop, inplace=True)\n",
        "\n",
        "# 3. Visualize missing values\n",
        "msno.heatmap(df)\n",
        "plt.title(\"Missing Values Heatmap\")\n",
        "plt.show()\n",
        "\n",
        "# 4. Basic missing value processing\n",
        "df.dropna(thresh=len(df) * 0.5, axis=1, inplace=True) # If a column has more than 50% missing values, delete it.\n",
        "\n",
        "# If there is a 'SALARY' column, fill missing values with the median.\n",
        "if \"SALARY\" in df.columns:\n",
        "    df[\"SALARY\"].fillna(df[\"SALARY\"].median(), inplace=True)\n",
        "# If there is an 'Industry' column, fill missing values with 'Unknown'.\n",
        "if \"Industry\" in df.columns:\n",
        "    df[\"Industry\"].fillna(\"Unknown\", inplace=True)\n",
        "\n",
        "# 5. Remove duplicates\n",
        "df.drop_duplicates(subset=[\"TITLE\", \"COMPANY\", \"LOCATION\", \"POSTED\"], keep=\"first\", inplace=True)"
      ],
      "id": "a879e744",
      "execution_count": null,
      "outputs": []
    },
    {
      "cell_type": "markdown",
      "metadata": {},
      "source": [
        "### Job Postings by Industry"
      ],
      "id": "d861e264"
    },
    {
      "cell_type": "code",
      "metadata": {},
      "source": [
        "if \"Industry\" in df.columns:\n",
        "    fig = px.bar(df[\"Industry\"].value_counts(), title=\"Job Postings by Industry\")\n",
        "    fig.show()"
      ],
      "id": "9c81140c",
      "execution_count": null,
      "outputs": []
    },
    {
      "cell_type": "markdown",
      "metadata": {},
      "source": [
        "**Explanation:**  \n",
        "This bar chart shows the number of job postings across different industries. It highlights which sectors are most active in recruiting, allowing us to identify high-demand areas such as technology, healthcare, or finance.\n",
        "\n",
        "### Salary Distribution by Industry"
      ],
      "id": "e0506978"
    },
    {
      "cell_type": "code",
      "metadata": {},
      "source": [
        "if \"SALARY\" in df.columns and \"Industry\" in df.columns:\n",
        "    fig = px.box(df, x=\"Industry\", y=\"SALARY\", title=\"Salary Distribution by Industry\")\n",
        "    fig.show()"
      ],
      "id": "fb8fd66a",
      "execution_count": null,
      "outputs": []
    },
    {
      "cell_type": "markdown",
      "metadata": {},
      "source": [
        "**Explanation:**  \n",
        "This box plot illustrates how salary ranges differ across industries. It helps reveal not only the median salary but also the variability and presence of outliers, giving insight into income inequality or competitive compensation within certain sectors.\n",
        "\n",
        "### Remote vs. On-Site Jobs"
      ],
      "id": "02ba111a"
    },
    {
      "cell_type": "code",
      "metadata": {},
      "source": [
        "if \"REMOTE_TYPE_NAME\" in df.columns:\n",
        "    fig = px.pie(df, names=\"REMOTE_TYPE_NAME\", title=\"Remote vs. On-Site Jobs\")\n",
        "    fig.show()"
      ],
      "id": "63f360c4",
      "execution_count": null,
      "outputs": []
    },
    {
      "cell_type": "markdown",
      "metadata": {},
      "source": [
        "**Explanation:**  \n",
        "This pie chart breaks down the proportion of jobs by remote type. It shows how many roles are fully remote, hybrid, or entirely on-site, offering insights into post-pandemic work trends and flexibility offered by employers.\n",
        "\n",
        "### Job Postings Over Time"
      ],
      "id": "3af22c41"
    },
    {
      "cell_type": "code",
      "metadata": {},
      "source": [
        "if \"POSTED\" in df.columns:\n",
        "    df['POSTED'] = pd.to_datetime(df['POSTED'], errors='coerce')\n",
        "    postings_over_time = df['POSTED'].value_counts().sort_index()\n",
        "    fig = px.line(x=postings_over_time.index, y=postings_over_time.values, labels={'x': 'Date Posted', 'y': 'Number of Job Postings'}, title=\"Job Postings Over Time\")\n",
        "    fig.show()"
      ],
      "id": "a03c8006",
      "execution_count": null,
      "outputs": []
    },
    {
      "cell_type": "raw",
      "metadata": {},
      "source": [
        "**Explanation:**  \n",
        "\n",
        "This line graph tracks how job postings have changed over time. Peaks and troughs may indicate hiring cycles, economic events, or seasonal effects in the job market.\n",
        "\n",
        "\n",
        "---"
      ],
      "id": "7a664fa2"
    },
    {
      "cell_type": "markdown",
      "metadata": {},
      "source": [
        "title: \"Skill Gap Analysis\"     \n",
        "format: html\n",
        "kernel: python3                     \n",
        "execute:\n",
        "  echo: true                    \n",
        "  eval: true                     \n",
        "---\n",
        "\n",
        "## 3.1 Skill Gap Analysis\n",
        "\n",
        "### 3.1.1 Team Skill Self-Assessment"
      ],
      "id": "dba14778"
    },
    {
      "cell_type": "code",
      "metadata": {},
      "source": [
        "import pandas as pd\n",
        "\n",
        "# Team members and their self-rated proficiency (1–5)\n",
        "# Team members and their self-rated proficiency (1–5)\n",
        "skills_data = {\n",
        "    \"Name\":             [\"Deyang\", \"Yani\", \"Jiapei\", \"Junhao\"],\n",
        "    \"Python\":           [4,        3,      4,         3],\n",
        "    \"SQL\":              [3,        3,      4,         3],\n",
        "    \"Machine Learning\": [2,        5,      5,         2],\n",
        "    \"Cloud Computing\":  [1,        4,      2,         3],\n",
        "    \"R\":                [3,        5,      4,         2],   # \n",
        "    \"AWS\":              [4,        4,      2,         3],   # \n",
        "    \"Git\":              [4,        3,      2,         1],   # \n",
        "    \"Excel\":            [3,        4,      5,         2],   # \n",
        "}\n",
        "\n",
        "df_skills = pd.DataFrame(skills_data).set_index(\"Name\")\n",
        "df_skills"
      ],
      "id": "cedc9adc",
      "execution_count": null,
      "outputs": []
    },
    {
      "cell_type": "markdown",
      "metadata": {},
      "source": [
        "3.1.2 Compare to Market Demand"
      ],
      "id": "342702ba"
    },
    {
      "cell_type": "code",
      "metadata": {},
      "source": [
        "# Load raw job postings data\n",
        "raw_df = pd.read_csv(\"lightcast_job_postings.csv\")\n",
        "\n",
        "# Drop irrelevant columns\n",
        "columns_to_drop = [\n",
        "    \"ID\", \"URL\", \"ACTIVE_URLS\", \"DUPLICATES\", \"LAST_UPDATED_TIMESTAMP\",\n",
        "    \"NAICS2\", \"NAICS3\", \"NAICS4\", \"NAICS5\", \"NAICS6\",\n",
        "    \"SOC_2\", \"SOC_3\", \"SOC_5\"\n",
        "]\n",
        "valid_cols_to_drop = [col for col in columns_to_drop if col in raw_df.columns]\n",
        "raw_df.drop(columns=valid_cols_to_drop, inplace=True)\n",
        "\n",
        "# Drop columns with >50% missing\n",
        "raw_df.dropna(thresh=len(raw_df) * 0.5, axis=1, inplace=True)\n",
        "\n",
        "# Fill missing values\n",
        "if \"SALARY\" in raw_df.columns:\n",
        "    raw_df[\"SALARY\"].fillna(raw_df[\"SALARY\"].median(), inplace=True)\n",
        "if \"Industry\" in raw_df.columns:\n",
        "    raw_df[\"Industry\"].fillna(\"Unknown\", inplace=True)\n",
        "\n",
        "# Remove duplicates\n",
        "raw_df.drop_duplicates(subset=[\"TITLE\", \"COMPANY\", \"LOCATION\", \"POSTED\"], keep=\"first\", inplace=True)\n",
        "\n",
        "# Count keyword occurrences\n",
        "top_skills = df_skills.columns.tolist()\n",
        "job_text = raw_df[\"BODY\"].fillna(\"\")\n",
        "skill_counts = {s: job_text.str.contains(s, case=False).sum() for s in top_skills}\n",
        "\n",
        "# Append demand row\n",
        "df_skills.loc[\"Market Demand\"] = [skill_counts[s] for s in top_skills]\n",
        "df_skills"
      ],
      "id": "33b9af40",
      "execution_count": null,
      "outputs": []
    },
    {
      "cell_type": "markdown",
      "metadata": {},
      "source": [
        "3.1.3 Visualize Skill Gaps"
      ],
      "id": "97813c2e"
    },
    {
      "cell_type": "code",
      "metadata": {},
      "source": [
        "import matplotlib.pyplot as plt\n",
        "\n",
        "# Team skill levels heatmap\n",
        "plt.figure(figsize=(6,2))\n",
        "plt.imshow(df_skills.iloc[:-1], aspect=\"auto\")\n",
        "plt.colorbar(label=\"Skill Level (1–5)\")\n",
        "plt.yticks(range(len(df_skills.index)-1), df_skills.index[:-1])\n",
        "plt.xticks(range(len(df_skills.columns)), df_skills.columns, rotation=45, ha=\"right\")\n",
        "plt.title(\"Team Skill Levels\")\n",
        "plt.tight_layout()\n",
        "plt.show()\n",
        "\n",
        "# Market demand heatmap\n",
        "plt.figure(figsize=(6,2))\n",
        "plt.imshow([df_skills.loc[\"Market Demand\"]], aspect=\"auto\")\n",
        "plt.colorbar(label=\"Market Demand Count\")\n",
        "plt.yticks([0], [\"Market Demand\"])\n",
        "plt.xticks(range(len(df_skills.columns)), df_skills.columns, rotation=45, ha=\"right\")\n",
        "plt.title(\"Market Demand by Skill\")\n",
        "plt.tight_layout()\n",
        "plt.show()"
      ],
      "id": "14eb1e0b",
      "execution_count": null,
      "outputs": []
    },
    {
      "cell_type": "markdown",
      "metadata": {},
      "source": [
        "hj\n",
        "\n",
        "Based on the heatmap comparison of each person’s self-ratings (1–5) against the normalized market-demand scores, here’s a concise, paragraph-style improvement plan:\n",
        "\n",
        "Deyang shows the largest gaps in Cloud Computing and R. To close these, start with an AWS Fundamentals micro-course (Coursera or AWS’s own training) and follow up by building a small R Shiny dashboard using the free “R for Data Science” online book and the swirl R package for hands-on exercises. Aim to spend 2–3 hours per week on labs, then peer-review each other’s code in GitHub.\n",
        "\n",
        "Yani needs to boost Machine Learning and AWS skills. I recommend Andrew Ng’s Machine Learning specialization on Coursera, paired with the AWS Certified Cloud Practitioner path on AWS Training. After completing each module, apply what you’ve learned by deploying a simple classification model on AWS Sagemaker and sharing the workflow in a team repo, so everyone can give feedback.\n",
        "\n",
        "Jiapei would benefit most from deeper Cloud Computing practice and reinforcing R. Enroll in Google Cloud’s “Data Engineering” Qwiklabs quests and run through interactive R exercises via swirl. Host a 30-minute “teach-back” session after completing each mini-project—this both cements your own understanding and helps teammates pick up new tricks.\n",
        "\n",
        "Junhao has room to grow in Excel and SQL. Take an “Excel Essentials” short course on LinkedIn Learning, then tackle Mode’s SQL tutorial problems. Organize weekly problem-solving sessions where one member presents a real-world dataset and the rest write SQL queries together. This combination of structured learning and peer collaboration will efficiently close the remaining gaps.\n"
      ],
      "id": "1ec967f9"
    },
    {
      "cell_type": "raw",
      "metadata": {},
      "source": [
        "---\n",
        "title: \"ML Methods Section\"\n",
        "format: docx\n",
        "jupyter: python3\n",
        "---\n",
        "\n",
        "---"
      ],
      "id": "8c731a8a"
    },
    {
      "cell_type": "markdown",
      "metadata": {},
      "source": [
        "title: \"Project 4\"\n",
        "format:\n",
        "  html:\n",
        "    self-contained: true\n",
        "    theme: flatly\n",
        "    toc: true\n",
        "---"
      ],
      "id": "3de6867e"
    },
    {
      "cell_type": "code",
      "metadata": {},
      "source": [
        "import pandas as pd\n",
        "\n",
        "df = pd.read_csv(\"lightcast_job_postings.csv\")\n",
        "\n",
        "columns_to_drop = [\n",
        "    \"ID\", \"URL\", \"ACTIVE_URLS\", \"DUPLICATES\", \"LAST_UPDATED_TIMESTAMP\",\n",
        "    \"NAICS2\", \"NAICS3\", \"NAICS4\", \"NAICS5\", \"NAICS6\",\n",
        "    \"SOC_2\", \"SOC_3\", \"SOC_5\"\n",
        "]\n",
        "valid_cols_to_drop = [col for col in columns_to_drop if col in df.columns]\n",
        "df.drop(columns=valid_cols_to_drop, inplace=True)\n",
        "\n",
        "df.dropna(thresh=len(df) * 0.5, axis=1, inplace=True) \n",
        "\n",
        "if \"SALARY\" in df.columns:\n",
        "    df[\"SALARY\"].fillna(df[\"SALARY\"].median(), inplace=True)\n",
        "if \"Industry\" in df.columns:\n",
        "    df[\"Industry\"].fillna(\"Unknown\", inplace=True)\n",
        "\n",
        "df.drop_duplicates(subset=[\"TITLE\", \"COMPANY\", \"LOCATION\", \"POSTED\"], keep=\"first\", inplace=True)\n",
        "\n",
        "if \"POSTED\" in df.columns:\n",
        "    df['POSTED'] = pd.to_datetime(df['POSTED'], errors='coerce')"
      ],
      "id": "cf3d910f",
      "execution_count": null,
      "outputs": []
    },
    {
      "cell_type": "code",
      "metadata": {},
      "source": [
        "import pandas as pd\n",
        "import numpy as np\n",
        "from sklearn.preprocessing import LabelEncoder\n",
        "from sklearn.cluster import KMeans\n",
        "import matplotlib.pyplot as plt\n",
        "from sklearn.decomposition import PCA"
      ],
      "id": "bd1edd50",
      "execution_count": null,
      "outputs": []
    },
    {
      "cell_type": "code",
      "metadata": {},
      "source": [
        "cols_to_use = ['NAICS_2022_5_NAME', 'EMPLOYMENT_TYPE_NAME', 'REMOTE_TYPE_NAME', 'EDUCATION_LEVELS_NAME']\n",
        "\n",
        "df_kmeans = df[cols_to_use].dropna()"
      ],
      "id": "c0ccc819",
      "execution_count": null,
      "outputs": []
    },
    {
      "cell_type": "code",
      "metadata": {},
      "source": [
        "X = pd.get_dummies(df_kmeans)"
      ],
      "id": "83b90876",
      "execution_count": null,
      "outputs": []
    },
    {
      "cell_type": "code",
      "metadata": {},
      "source": [
        "from sklearn.cluster import KMeans\n",
        "import matplotlib.pyplot as plt\n",
        "\n",
        "inertias = []\n",
        "K_range = range(1, 15) \n",
        "\n",
        "for k in K_range:\n",
        "    kmeans = KMeans(n_clusters=k, random_state=42, n_init=10)\n",
        "    kmeans.fit(X)\n",
        "    inertias.append(kmeans.inertia_)\n",
        "\n",
        "plt.figure(figsize=(8,5))\n",
        "plt.plot(K_range, inertias, marker='o')\n",
        "plt.xlabel('Number of Clusters (k)')\n",
        "plt.ylabel('Inertia')\n",
        "plt.title('Elbow Method for Optimal k (Multi-Feature)')\n",
        "plt.grid(True)\n",
        "plt.show()"
      ],
      "id": "d0242e4a",
      "execution_count": null,
      "outputs": []
    },
    {
      "cell_type": "code",
      "metadata": {},
      "source": [
        "k_optimal = 4\n",
        "\n",
        "kmeans_final = KMeans(n_clusters=k_optimal, random_state=42, n_init=10)\n",
        "df_kmeans['cluster'] = kmeans_final.fit_predict(X)\n",
        "\n",
        "print(df_kmeans['cluster'].value_counts())"
      ],
      "id": "8ebf73fe",
      "execution_count": null,
      "outputs": []
    },
    {
      "cell_type": "code",
      "metadata": {},
      "source": [
        "print(df_kmeans.head())"
      ],
      "id": "7d1c65d5",
      "execution_count": null,
      "outputs": []
    },
    {
      "cell_type": "code",
      "metadata": {},
      "source": [
        "from sklearn.decomposition import PCA\n",
        "import seaborn as sns\n",
        "\n",
        "pca = PCA(n_components=2)\n",
        "X_pca = pca.fit_transform(X)\n",
        "\n",
        "pca_df = pd.DataFrame(data=X_pca, columns=['PCA1', 'PCA2'])\n",
        "pca_df['cluster'] = df_kmeans['cluster'].values\n",
        "\n",
        "plt.figure(figsize=(8,6))\n",
        "sns.scatterplot(\n",
        "    x='PCA1', y='PCA2',\n",
        "    hue='cluster',\n",
        "    palette='tab10',\n",
        "    data=pca_df,\n",
        "    legend='full',\n",
        "    alpha=0.8\n",
        ")\n",
        "plt.title('KMeans Clustering with Multiple Features (PCA Reduced)')\n",
        "plt.xlabel('Principal Component 1')\n",
        "plt.ylabel('Principal Component 2')\n",
        "plt.legend(title='Cluster')\n",
        "plt.grid(True)\n",
        "plt.show()"
      ],
      "id": "7eaceca9",
      "execution_count": null,
      "outputs": []
    },
    {
      "cell_type": "code",
      "metadata": {},
      "source": [
        "features = ['NAICS_2022_5_NAME', 'EMPLOYMENT_TYPE_NAME', 'REMOTE_TYPE_NAME', 'EDUCATION_LEVELS_NAME']\n",
        "\n",
        "profile_summary = []\n",
        "\n",
        "for cluster_label in sorted(df_kmeans['cluster'].unique()):\n",
        "    cluster_data = df_kmeans[df_kmeans['cluster'] == cluster_label]\n",
        "    \n",
        "    top_features = {}\n",
        "    for feature in features:\n",
        "        if cluster_data[feature].nunique() > 0:\n",
        "            if feature == 'EDUCATION_LEVELS_NAME':\n",
        "                clean_edu = cluster_data[feature].astype(str).str.replace(r'[\\[\\]\\n\\\"]', '', regex=True)  # 去掉[], \\n, \"这些符号\n",
        "                clean_edu = clean_edu.str.split(',').str[0] \n",
        "                top_features[feature] = clean_edu.value_counts().idxmax()\n",
        "            else:\n",
        "                top_features[feature] = cluster_data[feature].value_counts().idxmax()\n",
        "        else:\n",
        "            top_features[feature] = 'N/A'\n",
        "    \n",
        "    profile_summary.append({\n",
        "        'Cluster': cluster_label,\n",
        "        'Top NAICS_2022_5_NAME': top_features['NAICS_2022_5_NAME'],\n",
        "        'Top Employment Type': top_features['EMPLOYMENT_TYPE_NAME'],\n",
        "        'Top Remote Type': top_features['REMOTE_TYPE_NAME'],\n",
        "        'Top Education Level': top_features['EDUCATION_LEVELS_NAME']\n",
        "        })\n",
        "\n",
        "profile_df = pd.DataFrame(profile_summary)\n",
        "\n",
        "print(profile_df)"
      ],
      "id": "028d0613",
      "execution_count": null,
      "outputs": []
    },
    {
      "cell_type": "markdown",
      "metadata": {},
      "source": [
        "In this project, we used the KMeans clustering model to group job postings based on several key features: industry classification (NAICS codes), employment type (full-time or part-time), remote work type (remote, on-site, or hybrid), and minimum education requirements (such as bachelor’s or master’s degrees).\n",
        "The purpose of clustering was to identify distinct groups within the job market and provide more targeted career insights and recommendations for job seekers.\n",
        "\n",
        "We selected four features for clustering: NAICS_2022_5_NAME, EMPLOYMENT_TYPE_NAME, REMOTE_TYPE_NAME, and EDUCATION_LEVELS_NAME.\n",
        "After applying one-hot encoding to these categorical variables, we used the KMeans algorithm to build the model.\n",
        "To determine the optimal number of clusters, we used the Elbow Method and selected k=4, which divided the data into four distinct job groups.\n",
        "We then reduced the dimensionality of the clustered data to two components using PCA and visualized the results.\n",
        "The clusters were clearly separated and showed good internal consistency.\n",
        "\n",
        "Through analysis of the clustering results, we found the following:\n",
        "Cluster 0 mainly consists of jobs classified under “Unclassified Industry,” with most being full-time positions, low levels of remote work, and a majority requiring a bachelor’s degree.\n",
        "Cluster 1 also contains jobs from unclassified industries, but with a higher proportion of remote work opportunities, making it suitable for those who prefer remote jobs.\n",
        "Clusters 2 and 3 are primarily composed of jobs in “Computer Systems Design and Related Services,” with higher education requirements, often needing a master’s degree or higher.\n",
        "These clusters are more appropriate for technical job seekers.\n",
        "\n",
        "Based on the cluster characteristics, we recommend that job seekers who prefer remote work focus on opportunities within Cluster 1.\n",
        "Those with advanced degrees and technical backgrounds should prioritize jobs in Clusters 2 and 3.\n",
        "Entry-level candidates or those with lower education requirements may find suitable opportunities in Cluster 0."
      ],
      "id": "efbf0ada"
    },
    {
      "cell_type": "code",
      "metadata": {},
      "source": [
        "import pandas as pd\n",
        "\n",
        "df = pd.read_csv(\"lightcast_job_postings.csv\")\n",
        "\n",
        "columns_to_drop = [\n",
        "    \"ID\", \"URL\", \"ACTIVE_URLS\", \"DUPLICATES\", \"LAST_UPDATED_TIMESTAMP\",\n",
        "    \"NAICS2\", \"NAICS3\", \"NAICS4\", \"NAICS5\", \"NAICS6\",\n",
        "    \"SOC_2\", \"SOC_3\", \"SOC_5\"\n",
        "]\n",
        "valid_cols_to_drop = [col for col in columns_to_drop if col in df.columns]\n",
        "df.drop(columns=valid_cols_to_drop, inplace=True)\n",
        "\n",
        "if \"SALARY\" in df.columns:\n",
        "    df[\"SALARY\"].fillna(df[\"SALARY\"].median(), inplace=True)\n",
        "if \"Industry\" in df.columns:\n",
        "    df[\"Industry\"].fillna(\"Unknown\", inplace=True)\n",
        "df[\"MIN_YEARS_EXPERIENCE\"] = df[\"MIN_YEARS_EXPERIENCE\"].fillna(df[\"MIN_YEARS_EXPERIENCE\"].median())\n",
        "\n",
        "df.drop_duplicates(subset=[\"TITLE\", \"COMPANY\", \"LOCATION\", \"POSTED\"], keep=\"first\", inplace=True)\n",
        "\n",
        "if \"POSTED\" in df.columns:\n",
        "    df['POSTED'] = pd.to_datetime(df['POSTED'], errors='coerce')"
      ],
      "id": "0acc2cdb",
      "execution_count": null,
      "outputs": []
    },
    {
      "cell_type": "code",
      "metadata": {},
      "source": [
        "cols_to_check = [\n",
        "    'EMPLOYMENT_TYPE_NAME', \n",
        "    'REMOTE_TYPE_NAME', \n",
        "    'EDUCATION_LEVELS_NAME', \n",
        "    'NAICS_2022_5_NAME', \n",
        "    'TITLE_NAME', \n",
        "    'SALARY',\n",
        "    'MIN_YEARS_EXPERIENCE'\n",
        "]\n",
        "\n",
        "missing_counts = df[cols_to_check].isnull().sum()\n",
        "\n",
        "print(missing_counts)"
      ],
      "id": "aee58013",
      "execution_count": null,
      "outputs": []
    },
    {
      "cell_type": "code",
      "metadata": {},
      "source": [
        "cols_to_use = [\n",
        "    'EMPLOYMENT_TYPE_NAME', \n",
        "    'REMOTE_TYPE_NAME', \n",
        "    'EDUCATION_LEVELS_NAME',  \n",
        "    'TITLE_NAME', \n",
        "    'NAICS_2022_5_NAME',\n",
        "    'SALARY'\n",
        "]\n",
        "df_regression = df[cols_to_use].dropna()\n",
        "\n",
        "y = df_regression['SALARY']\n",
        "\n",
        "X = pd.get_dummies(df_regression.drop('SALARY', axis=1), drop_first=True)"
      ],
      "id": "48246682",
      "execution_count": null,
      "outputs": []
    },
    {
      "cell_type": "code",
      "metadata": {},
      "source": [
        "from sklearn.model_selection import train_test_split\n",
        "\n",
        "X_train, X_test, y_train, y_test = train_test_split(X, y, test_size=0.3, random_state=688)"
      ],
      "id": "8dbf264c",
      "execution_count": null,
      "outputs": []
    },
    {
      "cell_type": "code",
      "metadata": {},
      "source": [
        "from sklearn.linear_model import LinearRegression\n",
        "\n",
        "lr_model = LinearRegression()\n",
        "lr_model.fit(X_train, y_train)"
      ],
      "id": "75e6c71a",
      "execution_count": null,
      "outputs": []
    },
    {
      "cell_type": "code",
      "metadata": {},
      "source": [
        "y_pred = lr_model.predict(X_test)"
      ],
      "id": "dc360fc4",
      "execution_count": null,
      "outputs": []
    },
    {
      "cell_type": "code",
      "metadata": {},
      "source": [
        "from sklearn.metrics import mean_squared_error, r2_score\n",
        "import numpy as np\n",
        "\n",
        "rmse = np.sqrt(mean_squared_error(y_test, y_pred))\n",
        "r2 = r2_score(y_test, y_pred)\n",
        "\n",
        "print(f\"RMSE: {rmse:.2f}\")\n",
        "print(f\"R²: {r2:.4f}\")"
      ],
      "id": "4e4d51c9",
      "execution_count": null,
      "outputs": []
    },
    {
      "cell_type": "code",
      "metadata": {},
      "source": [
        "import pandas as pd\n",
        "\n",
        "coef_df = pd.DataFrame({\n",
        "    'Feature': X_train.columns,\n",
        "    'Coefficient': lr_model.coef_\n",
        "})\n",
        "\n",
        "coef_df['Coefficient_Abs'] = coef_df['Coefficient'].abs()\n",
        "coef_df = coef_df.sort_values(by='Coefficient_Abs', ascending=False)\n",
        "\n",
        "print(coef_df.head(20))"
      ],
      "id": "43a9d352",
      "execution_count": null,
      "outputs": []
    },
    {
      "cell_type": "markdown",
      "metadata": {},
      "source": [
        "In this project, we used a linear regression model to predict salary levels based mainly on the job title feature (TITLE_NAME). The model results show that roles in healthcare, such as Urgent Care Physicians and Psychiatry Physicians, as well as positions in finance like Portfolio Strategists and IT security roles like Lead Security Architects, have a strong positive impact on salary levels. This means that jobs requiring high specialization and in-demand skills tend to offer higher salaries.\n",
        "For job seekers, these findings provide useful guidance for career planning and salary expectations. People who aim for higher-paying jobs might consider focusing on fields like healthcare, finance, or IT security. However, it is also important to understand that these roles often come with higher professional requirements and work pressure. When making career choices, it is important to match personal interests, skills, and strengths with realistic goals. Companies can also use this insight to better design competitive salary strategies and attract top talent."
      ],
      "id": "d9e930d7"
    },
    {
      "cell_type": "code",
      "metadata": {},
      "source": [
        "results_df = pd.DataFrame({\n",
        "    'Actual Salary': y_test,\n",
        "    'Predicted Salary': y_pred\n",
        "})\n",
        "\n",
        "plt.figure(figsize=(8, 6))\n",
        "plt.scatter(results_df['Actual Salary'], results_df['Predicted Salary'], alpha=0.6, color='cornflowerblue')\n",
        "plt.plot(\n",
        "    [results_df['Actual Salary'].min(), results_df['Actual Salary'].max()],\n",
        "    [results_df['Actual Salary'].min(), results_df['Actual Salary'].max()],\n",
        "    color='red', linestyle='--'\n",
        ")\n",
        "plt.title('Actual vs Predicted Salaries', fontsize=14)\n",
        "plt.xlabel('Actual Salary', fontsize=12)\n",
        "plt.ylabel('Predicted Salary', fontsize=12)\n",
        "plt.grid(True, linestyle='--', alpha=0.7)\n",
        "plt.tight_layout()\n",
        "plt.show()"
      ],
      "id": "451820e8",
      "execution_count": null,
      "outputs": []
    },
    {
      "cell_type": "markdown",
      "metadata": {},
      "source": [
        "The scatter plot shows the model’s prediction performance. The x-axis represents the actual salary, and the y-axis shows the predicted salary. The red dashed line represents a perfect prediction line. Overall, the model captures the general trend of salary changes fairly well. However, in the higher salary range, especially for jobs over 200,000 dollars per year, the model tends to underestimate salaries and shows larger prediction errors. In the lower salary range, especially for jobs below 100,000 dollars, the model predicts more accurately.\n",
        "\n",
        "This suggests that while the model provides helpful salary estimates, job seekers should use it carefully, especially when applying for high-paying positions. It is important to also consider personal background, industry trends, and specific job requirements. For those targeting high salaries, additional preparation, such as improving professional skills and gaining more experience, can help address the model's potential underestimation."
      ],
      "id": "f8532270"
    },
    {
      "cell_type": "code",
      "metadata": {},
      "source": [
        "import matplotlib.pyplot as plt\n",
        "import pandas as pd\n",
        "\n",
        "feature_importance = pd.Series(lr_model.coef_, index=X_train.columns)\n",
        "feature_importance = feature_importance.abs().sort_values(ascending=False).head(20)\n",
        "\n",
        "plt.figure(figsize=(10, 6))\n",
        "plt.barh(feature_importance.index[::-1], feature_importance.values[::-1], color='skyblue')\n",
        "plt.title(\"Top 20 Feature Importances (Linear Regression Coefficients)\", fontsize=14)\n",
        "plt.xlabel(\"Coefficient Magnitude\", fontsize=12)\n",
        "plt.ylabel(\"Features\", fontsize=12)\n",
        "plt.grid(axis='x', linestyle='--', alpha=0.7)\n",
        "plt.tight_layout()\n",
        "plt.show()"
      ],
      "id": "60eda0f3",
      "execution_count": null,
      "outputs": []
    },
    {
      "cell_type": "markdown",
      "metadata": {},
      "source": [
        "From the feature importance chart, we can see that the model's explanation of salary differences is highly concentrated around a small group of high-impact job titles. This suggests that selecting roles in key industries like healthcare, finance, and IT can significantly influence salary outcomes.\n",
        "\n",
        "For job seekers, aiming for these impactful roles can greatly improve earning potential. On the other hand, for roles with lower feature importance, it might be a good idea to adjust salary expectations based on the broader market. People working in these positions can also consider developing new skills or transitioning into fields with stronger market demand to boost their career development and salary prospects.\n"
      ],
      "id": "77399ff8"
    }
  ],
  "metadata": {
    "kernelspec": {
      "name": "python3",
      "language": "python",
      "display_name": "Python 3 (ipykernel)",
      "path": "/opt/anaconda3/share/jupyter/kernels/python3"
    }
  },
  "nbformat": 4,
  "nbformat_minor": 5
}